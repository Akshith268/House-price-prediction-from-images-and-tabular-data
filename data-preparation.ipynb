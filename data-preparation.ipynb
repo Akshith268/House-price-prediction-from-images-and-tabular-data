{
 "cells": [
  {
   "cell_type": "code",
   "execution_count": 1,
   "id": "1ff70d17",
   "metadata": {},
   "outputs": [],
   "source": [
    "import numpy as np\n",
    "from glob import glob\n",
    "import pandas as pd\n",
    "import cv2\n",
    "from tqdm import tqdm\n",
    "from sklearn.preprocessing import LabelEncoder"
   ]
  },
  {
   "cell_type": "markdown",
   "id": "040bfbb7",
   "metadata": {},
   "source": [
    "### Read Tabular data"
   ]
  },
  {
   "cell_type": "code",
   "execution_count": 2,
   "id": "8fe90304",
   "metadata": {},
   "outputs": [
    {
     "data": {
      "text/html": [
       "<div>\n",
       "<style scoped>\n",
       "    .dataframe tbody tr th:only-of-type {\n",
       "        vertical-align: middle;\n",
       "    }\n",
       "\n",
       "    .dataframe tbody tr th {\n",
       "        vertical-align: top;\n",
       "    }\n",
       "\n",
       "    .dataframe thead th {\n",
       "        text-align: right;\n",
       "    }\n",
       "</style>\n",
       "<table border=\"1\" class=\"dataframe\">\n",
       "  <thead>\n",
       "    <tr style=\"text-align: right;\">\n",
       "      <th></th>\n",
       "      <th>bedrooms</th>\n",
       "      <th>bathrooms</th>\n",
       "      <th>area</th>\n",
       "      <th>zipcode</th>\n",
       "      <th>price</th>\n",
       "    </tr>\n",
       "  </thead>\n",
       "  <tbody>\n",
       "    <tr>\n",
       "      <th>0</th>\n",
       "      <td>4</td>\n",
       "      <td>4.0</td>\n",
       "      <td>4053</td>\n",
       "      <td>85255</td>\n",
       "      <td>869500</td>\n",
       "    </tr>\n",
       "    <tr>\n",
       "      <th>1</th>\n",
       "      <td>4</td>\n",
       "      <td>3.0</td>\n",
       "      <td>3343</td>\n",
       "      <td>36372</td>\n",
       "      <td>865200</td>\n",
       "    </tr>\n",
       "    <tr>\n",
       "      <th>2</th>\n",
       "      <td>3</td>\n",
       "      <td>4.0</td>\n",
       "      <td>3923</td>\n",
       "      <td>85266</td>\n",
       "      <td>889000</td>\n",
       "    </tr>\n",
       "    <tr>\n",
       "      <th>3</th>\n",
       "      <td>5</td>\n",
       "      <td>5.0</td>\n",
       "      <td>4022</td>\n",
       "      <td>85262</td>\n",
       "      <td>910000</td>\n",
       "    </tr>\n",
       "    <tr>\n",
       "      <th>4</th>\n",
       "      <td>3</td>\n",
       "      <td>4.0</td>\n",
       "      <td>4116</td>\n",
       "      <td>85266</td>\n",
       "      <td>971226</td>\n",
       "    </tr>\n",
       "    <tr>\n",
       "      <th>...</th>\n",
       "      <td>...</td>\n",
       "      <td>...</td>\n",
       "      <td>...</td>\n",
       "      <td>...</td>\n",
       "      <td>...</td>\n",
       "    </tr>\n",
       "    <tr>\n",
       "      <th>530</th>\n",
       "      <td>5</td>\n",
       "      <td>2.0</td>\n",
       "      <td>2066</td>\n",
       "      <td>94531</td>\n",
       "      <td>399900</td>\n",
       "    </tr>\n",
       "    <tr>\n",
       "      <th>531</th>\n",
       "      <td>4</td>\n",
       "      <td>3.5</td>\n",
       "      <td>9536</td>\n",
       "      <td>94531</td>\n",
       "      <td>460000</td>\n",
       "    </tr>\n",
       "    <tr>\n",
       "      <th>532</th>\n",
       "      <td>3</td>\n",
       "      <td>2.0</td>\n",
       "      <td>2014</td>\n",
       "      <td>94531</td>\n",
       "      <td>407000</td>\n",
       "    </tr>\n",
       "    <tr>\n",
       "      <th>533</th>\n",
       "      <td>4</td>\n",
       "      <td>3.0</td>\n",
       "      <td>2312</td>\n",
       "      <td>94531</td>\n",
       "      <td>419000</td>\n",
       "    </tr>\n",
       "    <tr>\n",
       "      <th>534</th>\n",
       "      <td>5</td>\n",
       "      <td>3.0</td>\n",
       "      <td>3796</td>\n",
       "      <td>94531</td>\n",
       "      <td>615000</td>\n",
       "    </tr>\n",
       "  </tbody>\n",
       "</table>\n",
       "<p>535 rows × 5 columns</p>\n",
       "</div>"
      ],
      "text/plain": [
       "     bedrooms  bathrooms  area  zipcode   price\n",
       "0           4        4.0  4053    85255  869500\n",
       "1           4        3.0  3343    36372  865200\n",
       "2           3        4.0  3923    85266  889000\n",
       "3           5        5.0  4022    85262  910000\n",
       "4           3        4.0  4116    85266  971226\n",
       "..        ...        ...   ...      ...     ...\n",
       "530         5        2.0  2066    94531  399900\n",
       "531         4        3.5  9536    94531  460000\n",
       "532         3        2.0  2014    94531  407000\n",
       "533         4        3.0  2312    94531  419000\n",
       "534         5        3.0  3796    94531  615000\n",
       "\n",
       "[535 rows x 5 columns]"
      ]
     },
     "execution_count": 2,
     "metadata": {},
     "output_type": "execute_result"
    }
   ],
   "source": [
    "data = pd.read_csv(\"HousesInfo.txt\",sep=\" \")\n",
    "data"
   ]
  },
  {
   "cell_type": "markdown",
   "id": "ceadcc87",
   "metadata": {},
   "source": [
    "##### Data is already in uniform manner so no need to perform data cleaning"
   ]
  },
  {
   "cell_type": "markdown",
   "id": "18505213",
   "metadata": {},
   "source": [
    "### Data transformation : \n",
    "##### Data preparation for training"
   ]
  },
  {
   "cell_type": "code",
   "execution_count": 3,
   "id": "22bcccca",
   "metadata": {},
   "outputs": [],
   "source": [
    "le_area = LabelEncoder()\n",
    "data[\"zipcode\"] = le_area.fit_transform(data[\"zipcode\"])"
   ]
  },
  {
   "cell_type": "code",
   "execution_count": 4,
   "id": "56bc1464",
   "metadata": {},
   "outputs": [],
   "source": [
    "data[\"area\"] = data[\"area\"] / data[\"area\"].max()"
   ]
  },
  {
   "cell_type": "code",
   "execution_count": 5,
   "id": "d4c874ae",
   "metadata": {},
   "outputs": [],
   "source": [
    "data[\"price\"] = data[\"price\"]/data[\"price\"].max()"
   ]
  },
  {
   "cell_type": "code",
   "execution_count": 6,
   "id": "8f1b0580",
   "metadata": {},
   "outputs": [
    {
     "data": {
      "text/html": [
       "<div>\n",
       "<style scoped>\n",
       "    .dataframe tbody tr th:only-of-type {\n",
       "        vertical-align: middle;\n",
       "    }\n",
       "\n",
       "    .dataframe tbody tr th {\n",
       "        vertical-align: top;\n",
       "    }\n",
       "\n",
       "    .dataframe thead th {\n",
       "        text-align: right;\n",
       "    }\n",
       "</style>\n",
       "<table border=\"1\" class=\"dataframe\">\n",
       "  <thead>\n",
       "    <tr style=\"text-align: right;\">\n",
       "      <th></th>\n",
       "      <th>bedrooms</th>\n",
       "      <th>bathrooms</th>\n",
       "      <th>area</th>\n",
       "      <th>zipcode</th>\n",
       "      <th>price</th>\n",
       "    </tr>\n",
       "  </thead>\n",
       "  <tbody>\n",
       "    <tr>\n",
       "      <th>0</th>\n",
       "      <td>4</td>\n",
       "      <td>4.0</td>\n",
       "      <td>0.422936</td>\n",
       "      <td>13</td>\n",
       "      <td>0.148429</td>\n",
       "    </tr>\n",
       "    <tr>\n",
       "      <th>1</th>\n",
       "      <td>4</td>\n",
       "      <td>3.0</td>\n",
       "      <td>0.348847</td>\n",
       "      <td>0</td>\n",
       "      <td>0.147695</td>\n",
       "    </tr>\n",
       "    <tr>\n",
       "      <th>2</th>\n",
       "      <td>3</td>\n",
       "      <td>4.0</td>\n",
       "      <td>0.409371</td>\n",
       "      <td>15</td>\n",
       "      <td>0.151758</td>\n",
       "    </tr>\n",
       "    <tr>\n",
       "      <th>3</th>\n",
       "      <td>5</td>\n",
       "      <td>5.0</td>\n",
       "      <td>0.419702</td>\n",
       "      <td>14</td>\n",
       "      <td>0.155343</td>\n",
       "    </tr>\n",
       "    <tr>\n",
       "      <th>4</th>\n",
       "      <td>3</td>\n",
       "      <td>4.0</td>\n",
       "      <td>0.429511</td>\n",
       "      <td>15</td>\n",
       "      <td>0.165795</td>\n",
       "    </tr>\n",
       "    <tr>\n",
       "      <th>...</th>\n",
       "      <td>...</td>\n",
       "      <td>...</td>\n",
       "      <td>...</td>\n",
       "      <td>...</td>\n",
       "      <td>...</td>\n",
       "    </tr>\n",
       "    <tr>\n",
       "      <th>530</th>\n",
       "      <td>5</td>\n",
       "      <td>2.0</td>\n",
       "      <td>0.215590</td>\n",
       "      <td>42</td>\n",
       "      <td>0.068266</td>\n",
       "    </tr>\n",
       "    <tr>\n",
       "      <th>531</th>\n",
       "      <td>4</td>\n",
       "      <td>3.5</td>\n",
       "      <td>0.995095</td>\n",
       "      <td>42</td>\n",
       "      <td>0.078525</td>\n",
       "    </tr>\n",
       "    <tr>\n",
       "      <th>532</th>\n",
       "      <td>3</td>\n",
       "      <td>2.0</td>\n",
       "      <td>0.210164</td>\n",
       "      <td>42</td>\n",
       "      <td>0.069478</td>\n",
       "    </tr>\n",
       "    <tr>\n",
       "      <th>533</th>\n",
       "      <td>4</td>\n",
       "      <td>3.0</td>\n",
       "      <td>0.241261</td>\n",
       "      <td>42</td>\n",
       "      <td>0.071526</td>\n",
       "    </tr>\n",
       "    <tr>\n",
       "      <th>534</th>\n",
       "      <td>5</td>\n",
       "      <td>3.0</td>\n",
       "      <td>0.396118</td>\n",
       "      <td>42</td>\n",
       "      <td>0.104985</td>\n",
       "    </tr>\n",
       "  </tbody>\n",
       "</table>\n",
       "<p>535 rows × 5 columns</p>\n",
       "</div>"
      ],
      "text/plain": [
       "     bedrooms  bathrooms      area  zipcode     price\n",
       "0           4        4.0  0.422936       13  0.148429\n",
       "1           4        3.0  0.348847        0  0.147695\n",
       "2           3        4.0  0.409371       15  0.151758\n",
       "3           5        5.0  0.419702       14  0.155343\n",
       "4           3        4.0  0.429511       15  0.165795\n",
       "..        ...        ...       ...      ...       ...\n",
       "530         5        2.0  0.215590       42  0.068266\n",
       "531         4        3.5  0.995095       42  0.078525\n",
       "532         3        2.0  0.210164       42  0.069478\n",
       "533         4        3.0  0.241261       42  0.071526\n",
       "534         5        3.0  0.396118       42  0.104985\n",
       "\n",
       "[535 rows x 5 columns]"
      ]
     },
     "execution_count": 6,
     "metadata": {},
     "output_type": "execute_result"
    }
   ],
   "source": [
    "data"
   ]
  },
  {
   "cell_type": "code",
   "execution_count": 12,
   "id": "07b713df",
   "metadata": {},
   "outputs": [],
   "source": [
    "np.save(\"Text-numpy\",data.values)"
   ]
  },
  {
   "cell_type": "markdown",
   "id": "a7f9ea9d",
   "metadata": {},
   "source": [
    "### Load Image data and process it"
   ]
  },
  {
   "cell_type": "code",
   "execution_count": 7,
   "id": "5e2b2c59",
   "metadata": {},
   "outputs": [],
   "source": [
    "bathroom_imgs_path = glob(\"/kaggle/input/house-price/Houses Dataset/*_bathroom.jpg\")\n",
    "bedroom_imgs_path = glob(\"/kaggle/input/house-price/Houses Dataset/*_bedroom.jpg\")\n",
    "frontal_imgs_path = glob(\"/kaggle/input/house-price/Houses Dataset/*_frontal.jpg\")\n",
    "kitchen_imgs_path = glob(\"/kaggle/input/house-price/Houses Dataset/*_kitchen.jpg\")\n",
    "\n",
    "\n",
    "# Check the number of images loaded\n",
    "print(f\"Bathroom Images: {len(bathroom_imgs_path)}\")\n",
    "print(f\"Bedroom Images: {len(bedroom_imgs_path)}\")\n",
    "print(f\"Frontal Images: {len(frontal_imgs_path)}\")\n",
    "print(f\"Kitchen Images: {len(kitchen_imgs_path)}\")"
   ]
  },
  {
   "cell_type": "code",
   "execution_count": 8,
   "id": "c1911514",
   "metadata": {},
   "outputs": [
    {
     "data": {
      "text/plain": [
       "(535, 535, 535, 535)"
      ]
     },
     "execution_count": 8,
     "metadata": {},
     "output_type": "execute_result"
    }
   ],
   "source": [
    "len(bathroom_imgs_path),len(bedroom_imgs_path),len(frontal_imgs_path),len(kitchen_imgs_path)"
   ]
  },
  {
   "cell_type": "markdown",
   "id": "8b73fff3",
   "metadata": {},
   "source": [
    "#### Sequence of all four categories images are in same way so we can directly start with loading images"
   ]
  },
  {
   "cell_type": "code",
   "execution_count": 9,
   "id": "8f28ae81",
   "metadata": {},
   "outputs": [
    {
     "name": "stderr",
     "output_type": "stream",
     "text": [
      "100%|████████████████████████████████████████████████████████████████████████████████| 535/535 [00:57<00:00,  9.32it/s]\n"
     ]
    }
   ],
   "source": [
    "images = []\n",
    "target_shape = (100,100) \n",
    "for i in tqdm(range(len(bathroom_imgs_path))):\n",
    "    bath_img = cv2.imread(bathroom_imgs_path[i])\n",
    "    bed_img = cv2.imread(bedroom_imgs_path[i])\n",
    "    frontal_img = cv2.imread(frontal_imgs_path[i])\n",
    "    kitchen_img = cv2.imread(kitchen_imgs_path[i])\n",
    "    \n",
    "    bath_img = cv2.resize(bath_img,target_shape)\n",
    "    bed_img = cv2.resize(bed_img,target_shape)\n",
    "    frontal_img = cv2.resize(frontal_img,target_shape)\n",
    "    kitchen_img = cv2.resize(kitchen_img,target_shape)\n",
    "    \n",
    "    concat_img = np.hstack([bath_img,bed_img,frontal_img,kitchen_img])\n",
    "    images.append(concat_img)\n",
    "images = np.array(images)\n",
    "    "
   ]
  },
  {
   "cell_type": "code",
   "execution_count": 10,
   "id": "c648ecdb",
   "metadata": {},
   "outputs": [
    {
     "data": {
      "text/plain": [
       "(535, 100, 400, 3)"
      ]
     },
     "execution_count": 10,
     "metadata": {},
     "output_type": "execute_result"
    }
   ],
   "source": [
    "images.shape"
   ]
  },
  {
   "cell_type": "code",
   "execution_count": 16,
   "id": "468f857f",
   "metadata": {},
   "outputs": [],
   "source": [
    "np.save(\"Images-numpy\",images)"
   ]
  },
  {
   "cell_type": "markdown",
   "id": "41abd7da",
   "metadata": {},
   "source": [
    "##### here we had prepared data for training Now, we can start model building and optimization."
   ]
  },
  {
   "cell_type": "code",
   "execution_count": null,
   "id": "6a542bbd",
   "metadata": {},
   "outputs": [],
   "source": []
  }
 ],
 "metadata": {
  "kernelspec": {
   "display_name": "Python 3",
   "language": "python",
   "name": "python3"
  },
  "language_info": {
   "codemirror_mode": {
    "name": "ipython",
    "version": 3
   },
   "file_extension": ".py",
   "mimetype": "text/x-python",
   "name": "python",
   "nbconvert_exporter": "python",
   "pygments_lexer": "ipython3",
   "version": "3.6.13"
  }
 },
 "nbformat": 4,
 "nbformat_minor": 5
}
